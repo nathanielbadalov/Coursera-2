{
 "cells": [
  {
   "cell_type": "markdown",
   "id": "e2e35ae7-1e15-49fe-8ef9-238ca09e2484",
   "metadata": {},
   "source": [
    "# Data Science Tools and Ecosystem"
   ]
  },
  {
   "cell_type": "markdown",
   "id": "1eec242a-c698-440c-bba2-7175e90b4032",
   "metadata": {},
   "source": [
    "In this notebook, I summarize Data Science Tools and Ecosystem."
   ]
  },
  {
   "cell_type": "markdown",
   "id": "b92c1f19-3fbb-4ca6-9f1e-36f944e44df7",
   "metadata": {},
   "source": [
    "**Objectives:**\n",
    "* List popular languages for Data Science\n",
    "* List common libraires for Data Science\n",
    "* List some development environment open source tools used in data science\n",
    "* Present a few examples of arithmetic evaluation in Python"
   ]
  },
  {
   "cell_type": "markdown",
   "id": "6375de3d-af62-43fc-864c-819457b20602",
   "metadata": {},
   "source": [
    "Some of the popular languages that Data Scientists use are:\n",
    "1. Python\n",
    "2. R\n",
    "3. SQL"
   ]
  },
  {
   "cell_type": "markdown",
   "id": "6b27101b-d2d1-42d5-8ba2-5c08b0b877b1",
   "metadata": {},
   "source": [
    "Some of the most common libraries used by Data Scientists are:\n",
    "1. Pandas \n",
    "2. NumPy\n",
    "3. Matplotlib\n",
    "4. Scikit-learn\n",
    "5. TensorFlow\n",
    "6. ApacheSpark\n",
    "7. ggplot\n"
   ]
  },
  {
   "cell_type": "markdown",
   "id": "96175c9d-3365-4489-af36-77bd8360dd94",
   "metadata": {},
   "source": [
    "| Data Science Tools |\n",
    "|------|\n",
    "| Jupyter Notebook |\n",
    "| Rstudio |\n",
    "| Spyder |"
   ]
  },
  {
   "cell_type": "markdown",
   "id": "b1ffb4e7-fb27-4d14-b11b-d8c29bff2c1b",
   "metadata": {
    "tags": []
   },
   "source": [
    "### Below are a few examples of evaluating arithmetic expressions in Python"
   ]
  },
  {
   "cell_type": "code",
   "execution_count": 3,
   "id": "9c09350d-93cd-4fd3-8430-d645d9314372",
   "metadata": {
    "tags": []
   },
   "outputs": [
    {
     "data": {
      "text/plain": [
       "17"
      ]
     },
     "execution_count": 3,
     "metadata": {},
     "output_type": "execute_result"
    }
   ],
   "source": [
    "#This a simple arithmetic expression to mutiply then add integers\n",
    "(3*4)+5"
   ]
  },
  {
   "cell_type": "code",
   "execution_count": 5,
   "id": "6a4b2de7-7848-4a6c-bc32-e56ee529635e",
   "metadata": {
    "tags": []
   },
   "outputs": [
    {
     "data": {
      "text/plain": [
       "3.3333333333333335"
      ]
     },
     "execution_count": 5,
     "metadata": {},
     "output_type": "execute_result"
    }
   ],
   "source": [
    "#This will convert 200 minutes to hours by diving by 60\n",
    "200/60"
   ]
  },
  {
   "cell_type": "markdown",
   "id": "054492eb-cad6-41e7-8ed1-931f0121cdb4",
   "metadata": {},
   "source": [
    "## Author\n",
    "Nathaniel Badalov"
   ]
  }
 ],
 "metadata": {
  "kernelspec": {
   "display_name": "Python",
   "language": "python",
   "name": "conda-env-python-py"
  },
  "language_info": {
   "codemirror_mode": {
    "name": "ipython",
    "version": 3
   },
   "file_extension": ".py",
   "mimetype": "text/x-python",
   "name": "python",
   "nbconvert_exporter": "python",
   "pygments_lexer": "ipython3",
   "version": "3.7.12"
  }
 },
 "nbformat": 4,
 "nbformat_minor": 5
}
