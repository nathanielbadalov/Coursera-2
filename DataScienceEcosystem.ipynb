{
 "cells": [
  {
   "cell_type": "markdown",
   "id": "1e978f6c",
   "metadata": {},
   "source": [
    "# Data Science Tools and Ecosystem"
   ]
  },
  {
   "cell_type": "markdown",
   "id": "98085e97",
   "metadata": {},
   "source": [
    "In this notebook, I summarize Data Science Tools and Ecosystem."
   ]
  },
  {
   "cell_type": "markdown",
   "id": "1f4a6e93",
   "metadata": {},
   "source": [
    "**Objectives:**\n",
    "* List popular languages for Data Science\n",
    "* List common libraires for Data Science\n",
    "* List some development environment open source tools used in data science\n",
    "* Present a few examples of arithmetic evaluation in Python"
   ]
  },
  {
   "cell_type": "markdown",
   "id": "ca474042",
   "metadata": {},
   "source": [
    "Some of the popular languages that Data Scientists use are:\n",
    "1. Python\n",
    "2. R\n",
    "3. SQL"
   ]
  },
  {
   "cell_type": "markdown",
   "id": "49421b75",
   "metadata": {},
   "source": [
    "Some of the most common libraries used by Data Scientists are:\n",
    "1. Pandas \n",
    "2. NumPy\n",
    "3. Matplotlib\n",
    "4. Scikit-learn\n",
    "5. TensorFlow\n",
    "6. ApacheSpark\n",
    "7. ggplot\n"
   ]
  },
  {
   "cell_type": "markdown",
   "id": "c5c6c20b",
   "metadata": {},
   "source": [
    "| Data Science Tools |\n",
    "|------|\n",
    "| JupyterLab |\n",
    "| VSCode |\n",
    "|Jupyter Light |"
   ]
  },
  {
   "cell_type": "markdown",
   "id": "a6135a27",
   "metadata": {},
   "source": [
    "### Below are a few examples of evaluating arithmetic expressions in Python"
   ]
  },
  {
   "cell_type": "markdown",
   "id": "468b868a",
   "metadata": {},
   "source": [
    "This a simple arithmetic expression to mutiply then add integers"
   ]
  },
  {
   "cell_type": "code",
   "execution_count": 2,
   "id": "32842b5a",
   "metadata": {},
   "outputs": [
    {
     "data": {
      "text/plain": [
       "17"
      ]
     },
     "execution_count": 2,
     "metadata": {},
     "output_type": "execute_result"
    }
   ],
   "source": [
    "(3*4)+5"
   ]
  },
  {
   "cell_type": "markdown",
   "id": "d6a9f6bf",
   "metadata": {},
   "source": [
    "This will convert 200 minutes to hours by diving by 60"
   ]
  },
  {
   "cell_type": "code",
   "execution_count": 3,
   "id": "b3a534f4",
   "metadata": {},
   "outputs": [
    {
     "data": {
      "text/plain": [
       "3.3333333333333335"
      ]
     },
     "execution_count": 3,
     "metadata": {},
     "output_type": "execute_result"
    }
   ],
   "source": [
    "200/60"
   ]
  },
  {
   "cell_type": "markdown",
   "id": "9b00f25d",
   "metadata": {},
   "source": [
    "## Author\n",
    "Nathaniel Badalov"
   ]
  }
 ],
 "metadata": {
  "kernelspec": {
   "display_name": "Python 3 (ipykernel)",
   "language": "python",
   "name": "python3"
  },
  "language_info": {
   "codemirror_mode": {
    "name": "ipython",
    "version": 3
   },
   "file_extension": ".py",
   "mimetype": "text/x-python",
   "name": "python",
   "nbconvert_exporter": "python",
   "pygments_lexer": "ipython3",
   "version": "3.9.13"
  }
 },
 "nbformat": 4,
 "nbformat_minor": 5
}
